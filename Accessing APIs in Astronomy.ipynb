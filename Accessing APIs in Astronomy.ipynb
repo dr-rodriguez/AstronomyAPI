{
 "cells": [
  {
   "cell_type": "markdown",
   "metadata": {},
   "source": [
    "# Accessing APIs in Astronomy"
   ]
  },
  {
   "cell_type": "markdown",
   "metadata": {},
   "source": [
    "APIs, or Application Program Interfaces, are sets of tools and instructions to access an application. For our purposes here, an API will allow us to request data from astronomical catalogs and websites through scripts in Python.\n",
    "\n",
    "First, we'll load up some of the packages that we'll need to use. This includes **urllib** and **ulrlib2** to access URLs; **requests**, which is a better way to do the same; **StringIO** to treat strings as if they were files; **BeautifulSoup** to parse HTML files; **simplejson** to parse JSON files; and **requests_oauthlib** to handle authorization for API requests. We'll also load **matplotlib** for a quick plot and **astropy** to deal with VOTables."
   ]
  },
  {
   "cell_type": "code",
   "execution_count": null,
   "metadata": {
    "collapsed": true
   },
   "outputs": [],
   "source": [
    "%matplotlib inline\n",
    "\n",
    "import urllib2, urllib\n",
    "import requests\n",
    "from StringIO import StringIO\n",
    "from astropy.table import Table\n",
    "import matplotlib.pyplot as plt\n",
    "from bs4 import BeautifulSoup\n",
    "import simplejson\n",
    "from requests_oauthlib import OAuth1 # used for twitter's api"
   ]
  },
  {
   "cell_type": "markdown",
   "metadata": {},
   "source": [
    "## IRSA API\n",
    "\n",
    "Let's look at an example by considering the [IRSA (NASA/IPAC Infrared Science Archive) API](http://irsa.ipac.caltech.edu/applications/Gator/GatorAid/irsa/catsearch.html).\n",
    "\n",
    "Below, we load the **urllib** and **urllib2** modules in Python which will allow us to work with URL and send requests. (We'll see a better way to do this later on; see ADS section). \n",
    "The first step is to create the URL we need to access."
   ]
  },
  {
   "cell_type": "code",
   "execution_count": null,
   "metadata": {
    "collapsed": false
   },
   "outputs": [],
   "source": [
    "params = {}\n",
    "params['catalog'] = 'fp_psc'\n",
    "params['spatial'] = 'cone'\n",
    "params['objstr'] = 'M31'\n",
    "params['radius'] = 300\n",
    "params['radunits'] = 'arcsec'\n",
    "params['outfmt'] = 3\n",
    "url_values = urllib.urlencode(params)\n",
    "print url_values\n",
    "baseurl = 'http://irsa.ipac.caltech.edu/cgi-bin/Gator/nph-query'\n",
    "url = baseurl + '?' + url_values\n",
    "print url"
   ]
  },
  {
   "cell_type": "code",
   "execution_count": null,
   "metadata": {
    "collapsed": false,
    "scrolled": true
   },
   "outputs": [],
   "source": [
    "response = urllib2.urlopen(url)\n",
    "u = response.read()"
   ]
  },
  {
   "cell_type": "markdown",
   "metadata": {},
   "source": [
    "Rather than work with the VOTable string, we can save it to a file to be used elsewhere, or parse it directly in Python. We'll use the **StringIO** module to convert this string to a file-like object, which can be parsed and read by the **astropy.table** module into a Table object."
   ]
  },
  {
   "cell_type": "code",
   "execution_count": null,
   "metadata": {
    "collapsed": false
   },
   "outputs": [],
   "source": [
    "temp = StringIO(u)\n",
    "t = Table.read(temp, format='votable')\n",
    "print t\n",
    "print t.colnames"
   ]
  },
  {
   "cell_type": "markdown",
   "metadata": {},
   "source": [
    "You can now do all the usual things you would want with this table of sources, such as create a plot."
   ]
  },
  {
   "cell_type": "code",
   "execution_count": null,
   "metadata": {
    "collapsed": false
   },
   "outputs": [],
   "source": [
    "plt.scatter(t['ra'], t['dec'], c=t['j_k'])\n",
    "plt.gca().invert_xaxis()\n",
    "plt.xlabel('RA (deg)')\n",
    "plt.ylabel('Dec (deg)')\n",
    "color = plt.colorbar()\n",
    "color.set_label('J-K Color')"
   ]
  },
  {
   "cell_type": "markdown",
   "metadata": {},
   "source": [
    "## Simbad API\n",
    "\n",
    "Now, let's have a look at [Simbad](http://simbad.u-strasbg.fr/simbad/) and use their [API](http://simbad.u-strasbg.fr/simbad/sim-help?Page=sim-url). There are a variety of URL available to us depending on what we want to do, we'll be using the most generalized one to send a custom-made script."
   ]
  },
  {
   "cell_type": "code",
   "execution_count": null,
   "metadata": {
    "collapsed": false
   },
   "outputs": [],
   "source": [
    "baseurl = 'http://simbad.u-strasbg.fr/simbad/sim-script'\n",
    "script = \"\"\"output console=off script=off\n",
    "votable v1 {\n",
    "MAIN_ID\n",
    "COO\n",
    "RA(d)\n",
    "DEC(d)\n",
    "OTYPE\n",
    "}\n",
    "votable open v1\n",
    "sirius\n",
    "query id V4046 Sgr\n",
    "query coo 11 01 -34 42 radius=30s\n",
    "votable close\n",
    "\"\"\"\n",
    "script = 'script=' + urllib.quote_plus(script)\n",
    "url = baseurl + '?' +  script\n",
    "print url"
   ]
  },
  {
   "cell_type": "markdown",
   "metadata": {},
   "source": [
    "Up to now, with the parameters set in the URL, we've been issuing HTTP GET requests. That still works here, but there can be problems with very long URLs. To avoid this, we'll send the parameters via an HTTP POST requests. Some websites will treat GET and POST requests differently, but for our purposes this works fine and we don't need to worry about their differences for now."
   ]
  },
  {
   "cell_type": "code",
   "execution_count": null,
   "metadata": {
    "collapsed": false
   },
   "outputs": [],
   "source": [
    "response = urllib2.urlopen(baseurl, script)\n",
    "u = response.read()\n",
    "temp = StringIO(u)\n",
    "try:\n",
    "    t = Table.read(temp, format='votable')\n",
    "    print t\n",
    "except ValueError:\n",
    "    print u"
   ]
  },
  {
   "cell_type": "markdown",
   "metadata": {},
   "source": [
    "For a full list of fields to request from Simbad, as well as instructions on other Simbad queries, check out their [help page](http://simbad.u-strasbg.fr/simbad/sim-help?Page=sim-fscript)."
   ]
  },
  {
   "cell_type": "markdown",
   "metadata": {},
   "source": [
    "## ADS API\n",
    "\n",
    "Next, let's have a look at the [ADS](http://www.adsabs.harvard.edu/) API. Let's start with the old, classic way of searching for papers."
   ]
  },
  {
   "cell_type": "code",
   "execution_count": null,
   "metadata": {
    "collapsed": false
   },
   "outputs": [],
   "source": [
    "baseurl = 'http://adsabs.harvard.edu/cgi-bin/basic_connect'\n",
    "query = '^Rodriguez,D 2010-'\n",
    "query = 'qsearch=' + urllib.quote_plus(query)\n",
    "url = baseurl + '?' + query\n",
    "print url"
   ]
  },
  {
   "cell_type": "code",
   "execution_count": null,
   "metadata": {
    "collapsed": false
   },
   "outputs": [],
   "source": [
    "response = urllib2.urlopen(url)\n",
    "u = response.read()"
   ]
  },
  {
   "cell_type": "markdown",
   "metadata": {},
   "source": [
    "The result from this is just the ADS website. In order to get something out of this, we will parse it and grab the relevant information. We'll use [BeautifulSoup](http://www.crummy.com/software/BeautifulSoup/) to do this."
   ]
  },
  {
   "cell_type": "code",
   "execution_count": null,
   "metadata": {
    "collapsed": false
   },
   "outputs": [],
   "source": [
    "soup = BeautifulSoup(u, 'html.parser')\n",
    "authors = soup.find_all('td', width='25%')\n",
    "titles = soup.find_all('td', align=\"left\", valign=\"top\", colspan=3)\n",
    "for i in range(len(authors)):\n",
    "    print authors[i].get_text(), titles[i].string"
   ]
  },
  {
   "cell_type": "markdown",
   "metadata": {},
   "source": [
    "It's good to know how to parse HTML and get useful information out of websites.\n",
    "However, ADS has a new [interface](https://ui.adsabs.harvard.edu/) and a new way to call their [API](http://adsabs.github.io/help/api/). To access it, you'll need a personal authorization token which you can get on your user page when you log in. This token should be kept private."
   ]
  },
  {
   "cell_type": "code",
   "execution_count": null,
   "metadata": {
    "collapsed": true,
    "scrolled": true
   },
   "outputs": [],
   "source": [
    "my_token = 'K1aaAoEAoszEBSv3Y6xvFikCCjjmuuxcu9Z0KjaR'"
   ]
  },
  {
   "cell_type": "markdown",
   "metadata": {},
   "source": [
    "We'll be using the **[requests](http://docs.python-requests.org/en/latest/index.html)** package as that can deal with authorization to API, such as tokens and passwords. Anything we could do with **urllib**, we can pretty much do with **requests**."
   ]
  },
  {
   "cell_type": "code",
   "execution_count": null,
   "metadata": {
    "collapsed": true
   },
   "outputs": [],
   "source": [
    "baseurl = 'https://api.adsabs.harvard.edu/v1/search' + '/query'\n",
    "my_search = {}\n",
    "my_search['q'] = ['author:^Rodriguez,D','year:[2010 TO *]']  # the query\n",
    "my_search['fl'] = 'bibcode,author,title,citation_count,pubdate' # what to output\n",
    "my_search['sort'] = 'citation_count desc' # how to sort\n",
    "my_search['rows'] = 20 # how many entries to return\n",
    "my_auth = {'Authorization': 'Bearer:'+my_token}\n",
    "r = requests.get(baseurl, params=my_search, headers=my_auth)"
   ]
  },
  {
   "cell_type": "markdown",
   "metadata": {},
   "source": [
    "The output from such a request is a JSON (JavaScript Object Notation) formatted string."
   ]
  },
  {
   "cell_type": "code",
   "execution_count": null,
   "metadata": {
    "collapsed": false
   },
   "outputs": [],
   "source": [
    "r.json()"
   ]
  },
  {
   "cell_type": "markdown",
   "metadata": {},
   "source": [
    "We'll use **simplejson** to parse the JSON information into something we can use."
   ]
  },
  {
   "cell_type": "code",
   "execution_count": null,
   "metadata": {
    "collapsed": false
   },
   "outputs": [],
   "source": [
    "data = simplejson.loads(r.text)['response']['docs']\n",
    "\n",
    "for i in range(len(data)):\n",
    "    #if (data[i]['author'][0]!='Rodriguez, David R.'): continue\n",
    "    print data[i]['bibcode'], data[i]['citation_count'], data[i]['pubdate'], data[i]['author'][0], data[i]['title'][0] "
   ]
  },
  {
   "cell_type": "markdown",
   "metadata": {},
   "source": [
    "Refer to the [ADS API Github page](https://github.com/adsabs/adsabs-dev-api) for more examples of the sorts of searches you can do and the fields you can ask for."
   ]
  },
  {
   "cell_type": "markdown",
   "metadata": {},
   "source": [
    "## Twitter API\n",
    "\n",
    "Finally, let's have a look at Twitter. While not exactly part of an astronomer's toolset, Twitter is often used in conferences to communicate with one another and with the public. Let's create a simple example where we access the API and get results for tweets about #astroHackNY.\n",
    "\n",
    "You need special authorization ([OAuth](http://oauth.net/)) to query the [Twitter API](https://dev.twitter.com/overview/documentation). You'll need to go to Twitter's [Application Page](https://apps.twitter.com/), login with your account, and create an application. I've done this with my account and saved them to a file in JSON format, which I read below."
   ]
  },
  {
   "cell_type": "code",
   "execution_count": null,
   "metadata": {
    "collapsed": false
   },
   "outputs": [],
   "source": [
    "with open(\"twitter_secrets.json.nogit\") as f:\n",
    "    secrets = simplejson.loads(f.read())\n",
    "\n",
    "# OAuth1 is a module in requests_oauthlib\n",
    "auth = OAuth1(\n",
    "    secrets[\"api_key\"],\n",
    "    secrets[\"api_secret\"],\n",
    "    secrets[\"access_token\"],\n",
    "    secrets[\"access_token_secret\"]\n",
    ")"
   ]
  },
  {
   "cell_type": "markdown",
   "metadata": {},
   "source": [
    "Now we can structure our request in pretty much the same way as before."
   ]
  },
  {
   "cell_type": "code",
   "execution_count": null,
   "metadata": {
    "collapsed": false
   },
   "outputs": [],
   "source": [
    "params = {'q':'#AstroHackNY', 'result_type':'recent', 'count':20}\n",
    "url = 'https://api.twitter.com/1.1/search/tweets.json'\n",
    "r = requests.get(url, auth=auth, params=params)"
   ]
  },
  {
   "cell_type": "code",
   "execution_count": null,
   "metadata": {
    "collapsed": false
   },
   "outputs": [],
   "source": [
    "data = simplejson.loads(r.text)['statuses']\n",
    "\n",
    "for i in range(len(data)):\n",
    "    print data[i]['user']['screen_name'] + ': ' + data[i]['text'] + '  (' + data[i]['created_at'] + ')'"
   ]
  },
  {
   "cell_type": "markdown",
   "metadata": {},
   "source": [
    "The Twitter API is quite complex, so I recommend experimenting and reading through their documentation."
   ]
  },
  {
   "cell_type": "markdown",
   "metadata": {},
   "source": [
    "## Conclusion\n",
    "\n",
    "There are many other APIs that you can go access. [Here is a list](http://dotastronomy.com/events/hackdays/nyc2012/apis/) of some astronomy-related ones, but the tools you learned here carry over to more general APIs as well. Now go forth and mine some data!"
   ]
  }
 ],
 "metadata": {
  "kernelspec": {
   "display_name": "Python 2",
   "language": "python",
   "name": "python2"
  },
  "language_info": {
   "codemirror_mode": {
    "name": "ipython",
    "version": 2
   },
   "file_extension": ".py",
   "mimetype": "text/x-python",
   "name": "python",
   "nbconvert_exporter": "python",
   "pygments_lexer": "ipython2",
   "version": "2.7.11"
  }
 },
 "nbformat": 4,
 "nbformat_minor": 0
}
