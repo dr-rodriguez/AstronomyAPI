{
 "cells": [
  {
   "cell_type": "markdown",
   "metadata": {},
   "source": [
    "# Accessing APIs in Astronomy"
   ]
  },
  {
   "cell_type": "markdown",
   "metadata": {},
   "source": [
    "APIs, or Application Program Interfaces, are sets of tools and instructions to access an application. For our purposes here, an API will allow us to access the endpoints of several astronomical catalogs and websites in order to request data through scripts in Python.\n",
    "\n",
    "First, we'll load up some of the packages that we'll need to use. This includes **urllib** and **ulrlib2** to access URLs; **requests**, which is a better way to do the same; **StringIO** to treat strings as if they were files; **BeautifulSoup** to parse HTML files; **simplejson** to parse JSON files; and **requests_oauthlib** to handle authorization for API requests. We'll also load **matplotlib** for a quick plot and **astropy** to deal with VOTables."
   ]
  },
  {
   "cell_type": "code",
   "execution_count": 1,
   "metadata": {
    "collapsed": true
   },
   "outputs": [],
   "source": [
    "%matplotlib inline\n",
    "\n",
    "import urllib2, urllib\n",
    "import requests\n",
    "from StringIO import StringIO\n",
    "from astropy.table import Table\n",
    "import matplotlib.pyplot as plt\n",
    "from bs4 import BeautifulSoup\n",
    "import simplejson\n",
    "from requests_oauthlib import OAuth1 # used for twitter's api"
   ]
  },
  {
   "cell_type": "markdown",
   "metadata": {},
   "source": [
    "## IRSA API\n",
    "\n",
    "Let's look at an example by considering the [IRSA (NASA/IPAC Infrared Science Archive) API](http://irsa.ipac.caltech.edu/applications/Gator/GatorAid/irsa/catsearch.html).\n",
    "\n",
    "Below, we load the **urllib** and **urllib2** modules in Python which will allow us to work with URL and send requests. (We'll see a better way to do this later on; see ADS section). \n",
    "The first step is to create the URL we need to access."
   ]
  },
  {
   "cell_type": "code",
   "execution_count": 2,
   "metadata": {
    "collapsed": false
   },
   "outputs": [
    {
     "name": "stdout",
     "output_type": "stream",
     "text": [
      "radunits=arcsec&outfmt=3&objstr=M31&catalog=fp_psc&radius=300&spatial=cone\n",
      "http://irsa.ipac.caltech.edu/cgi-bin/Gator/nph-query?radunits=arcsec&outfmt=3&objstr=M31&catalog=fp_psc&radius=300&spatial=cone\n"
     ]
    }
   ],
   "source": [
    "params = {}\n",
    "params['catalog'] = 'fp_psc'\n",
    "params['spatial'] = 'cone'\n",
    "params['objstr'] = 'M31'\n",
    "params['radius'] = 300\n",
    "params['radunits'] = 'arcsec'\n",
    "params['outfmt'] = 3\n",
    "url_values = urllib.urlencode(params)\n",
    "print url_values\n",
    "baseurl = 'http://irsa.ipac.caltech.edu/cgi-bin/Gator/nph-query'\n",
    "url = baseurl + '?' + url_values\n",
    "print url"
   ]
  },
  {
   "cell_type": "code",
   "execution_count": 3,
   "metadata": {
    "collapsed": false,
    "scrolled": true
   },
   "outputs": [],
   "source": [
    "response = urllib2.urlopen(url)\n",
    "u = response.read()"
   ]
  },
  {
   "cell_type": "markdown",
   "metadata": {},
   "source": [
    "Rather than work with the VOTable string, we can save it to a file to be used elsewhere, or parse it directly in Python. We'll use the **StringIO** module to convert this string to a file-like object, which can be parsed and read by the **astropy.table** module into a Table object."
   ]
  },
  {
   "cell_type": "code",
   "execution_count": 6,
   "metadata": {
    "collapsed": false
   },
   "outputs": [
    {
     "name": "stdout",
     "output_type": "stream",
     "text": [
      "   ra     dec       clon     ...          h_k                  j_k          id \n",
      "  deg     deg                ...                                               \n",
      "------- ------- ------------ ... --------------------- ------------------- ----\n",
      " 10.733  41.215 00h42m56.01s ...                    --                  --    0\n",
      " 10.738  41.216 00h42m57.01s ...                    --                  --    1\n",
      " 10.726  41.211 00h42m54.34s ...                    --                  --    2\n",
      " 10.684  41.194 00h42m44.20s ...                    --                  --    3\n",
      " 10.683  41.193 00h42m43.99s ...                    --                  --    4\n",
      " 10.689  41.190 00h42m45.48s ...   0.24099999999999999  1.1339999999999999    5\n",
      " 10.692  41.195 00h42m46.18s ...                    --                  --    6\n",
      " 10.692  41.191 00h42m46.05s ...   0.60099999999999998               1.486    7\n",
      " 10.703  41.203 00h42m48.71s ... 0.0080000000000000002 0.67100000000000004    8\n",
      " 10.709  41.195 00h42m50.12s ...                    --                  --    9\n",
      "    ...     ...          ... ...                   ...                 ...  ...\n",
      " 10.778  41.285 00h43m06.81s ...   0.52000000000000002  1.2509999999999999 1755\n",
      " 10.781  41.283 00h43m07.36s ...                    --                  -- 1756\n",
      " 10.780  41.282 00h43m07.09s ...   0.14699999999999999 0.79900000000000004 1757\n",
      " 10.783  41.286 00h43m07.81s ...                    --                  -- 1758\n",
      " 10.793  41.271 00h43m10.21s ...                    --                  -- 1759\n",
      " 10.792  41.273 00h43m10.19s ...   0.39900000000000002                  -- 1760\n",
      " 10.794  41.283 00h43m10.57s ...   0.57099999999999995               1.161 1761\n",
      " 10.794  41.280 00h43m10.46s ...                    --                  -- 1762\n",
      " 10.780  41.229 00h43m07.12s ... 0.0080000000000000002 0.48299999999999998 1763\n",
      " 10.768  41.226 00h43m04.26s ...                    --                  -- 1764\n",
      "Length = 1765 rows\n",
      "['ra', 'dec', 'clon', 'clat', 'err_maj', 'err_min', 'err_ang', 'designation', 'j_m', 'j_cmsig', 'j_msigcom', 'j_snr', 'h_m', 'h_cmsig', 'h_msigcom', 'h_snr', 'k_m', 'k_cmsig', 'k_msigcom', 'k_snr', 'ph_qual', 'rd_flg', 'bl_flg', 'cc_flg', 'ndet', 'gal_contam', 'mp_flg', 'hemis', 'xdate', 'scan', 'glon', 'glat', 'a', 'dist_opt', 'phi_opt', 'b_m_opt', 'vr_m_opt', 'nopt_mchs', 'ext_key', 'dist', 'angle', 'j_h', 'h_k', 'j_k', 'id']\n"
     ]
    }
   ],
   "source": [
    "temp = StringIO(u)\n",
    "t = Table.read(temp, format='votable')\n",
    "print t\n",
    "print t.colnames"
   ]
  },
  {
   "cell_type": "markdown",
   "metadata": {},
   "source": [
    "You can now do all the usual things you would want with this table of sources, such as create a plot."
   ]
  },
  {
   "cell_type": "code",
   "execution_count": 7,
   "metadata": {
    "collapsed": false
   },
   "outputs": [
    {
     "data": {
      "image/png": "[encoded data removed]",
      "text/plain": [
       "<matplotlib.figure.Figure at 0x10e8d0150>"
      ]
     },
     "metadata": {},
     "output_type": "display_data"
    }
   ],
   "source": [
    "plt.scatter(t['ra'], t['dec'], c=t['j_k'])\n",
    "plt.gca().invert_xaxis()\n",
    "plt.xlabel('RA (deg)')\n",
    "plt.ylabel('Dec (deg)')\n",
    "color = plt.colorbar()\n",
    "color.set_label('J-K Color')"
   ]
  },
  {
   "cell_type": "markdown",
   "metadata": {},
   "source": [
    "## Simbad API\n",
    "\n",
    "Now, let's have a look at [Simbad](http://simbad.u-strasbg.fr/simbad/) and use their [API](http://simbad.u-strasbg.fr/simbad/sim-help?Page=sim-url). There are a variety of URL available to us depending on what we want to do, we'll be using the most generalized one to send a custom-made script."
   ]
  },
  {
   "cell_type": "code",
   "execution_count": 17,
   "metadata": {
    "collapsed": false
   },
   "outputs": [
    {
     "name": "stdout",
     "output_type": "stream",
     "text": [
      "http://simbad.u-strasbg.fr/simbad/sim-script?script=output+console%3Doff+script%3Doff%0Avotable+v1+%7B%0AMAIN_ID%0ACOO%0ARA%28d%29%0ADEC%28d%29%0AOTYPE%0A%7D%0Avotable+open+v1%0Asirius%0Aquery+id+V4046+Sgr%0Aquery+coo+11+01+-34+42+radius%3D120s%0Avotable+close%0A\n"
     ]
    }
   ],
   "source": [
    "baseurl = 'http://simbad.u-strasbg.fr/simbad/sim-script'\n",
    "script = \"\"\"output console=off script=off\n",
    "votable v1 {\n",
    "MAIN_ID\n",
    "COO\n",
    "RA(d)\n",
    "DEC(d)\n",
    "OTYPE\n",
    "}\n",
    "votable open v1\n",
    "sirius\n",
    "query id V4046 Sgr\n",
    "query coo 11 01 -34 42 radius=120s\n",
    "votable close\n",
    "\"\"\"\n",
    "script = 'script=' + urllib.quote_plus(script)\n",
    "url = baseurl + '?' +  script\n",
    "print url"
   ]
  },
  {
   "cell_type": "markdown",
   "metadata": {},
   "source": [
    "Up to now, with the parameters set in the URL, we've been issuing HTTP GET requests. That still works here, but there can be problems with very long URLs. To avoid this, we'll send the parameters via an HTTP POST requests. Some websites will treat GET and POST requests differently, but for our purposes this works fine and we don't need to worry about their differences for now."
   ]
  },
  {
   "cell_type": "code",
   "execution_count": 19,
   "metadata": {
    "collapsed": false
   },
   "outputs": [
    {
     "name": "stdout",
     "output_type": "stream",
     "text": [
      "     MAIN_ID             RA           DEC      ...    DEC_d     OTYPE\n",
      "                      \"h:m:s\"       \"d:m:s\"    ...     deg           \n",
      "------------------ ------------- ------------- ... ------------ -----\n",
      "         * alf CMa 06 45 08.9172 -16 42 58.017 ... -16.71611586    **\n",
      "      V* V4046 Sgr 18 14 10.4660 -32 47 34.496 ... -32.79291560 BYDra\n",
      "[HHP98] TW Hya X13   11 01 07.07   -34 41 19.3 ... -34.68869000     X\n"
     ]
    }
   ],
   "source": [
    "response = urllib2.urlopen(baseurl, script)\n",
    "u = response.read()\n",
    "temp = StringIO(u)\n",
    "try:\n",
    "    t = Table.read(temp, format='votable')\n",
    "    print t\n",
    "except ValueError:\n",
    "    print u"
   ]
  },
  {
   "cell_type": "markdown",
   "metadata": {},
   "source": [
    "For a full list of fields to request from Simbad, as well as instructions on other Simbad queries, check out their [help page](http://simbad.u-strasbg.fr/simbad/sim-help?Page=sim-fscript)."
   ]
  },
  {
   "cell_type": "markdown",
   "metadata": {},
   "source": [
    "## NASA ADS API\n",
    "\n",
    "Next, let's have a look at the [NASA ADS](http://www.adsabs.harvard.edu/) API. Let's start with the old, classic way of searching for papers."
   ]
  },
  {
   "cell_type": "code",
   "execution_count": 20,
   "metadata": {
    "collapsed": false
   },
   "outputs": [
    {
     "name": "stdout",
     "output_type": "stream",
     "text": [
      "http://adswww.harvard.edu/cgi-bin/basic_connect?qsearch=%5ERodriguez%2CD+2010-\n"
     ]
    }
   ],
   "source": [
    "baseurl = 'http://adswww.harvard.edu/cgi-bin/basic_connect'\n",
    "query = '^Rodriguez,D 2010-'\n",
    "query = 'qsearch=' + urllib.quote_plus(query)\n",
    "url = baseurl + '?' + query\n",
    "print url"
   ]
  },
  {
   "cell_type": "code",
   "execution_count": 22,
   "metadata": {
    "collapsed": false
   },
   "outputs": [],
   "source": [
    "response = urllib2.urlopen(url, timeout=120)\n",
    "u = response.read()"
   ]
  },
  {
   "cell_type": "markdown",
   "metadata": {},
   "source": [
    "The result from this is just the ADS website. In order to get something out of this, we will parse it and grab the relevant information. We'll use [BeautifulSoup](http://www.crummy.com/software/BeautifulSoup/) to do this."
   ]
  },
  {
   "cell_type": "code",
   "execution_count": 24,
   "metadata": {
    "collapsed": false
   },
   "outputs": [
    {
     "name": "stdout",
     "output_type": "stream",
     "text": [
      "Rodriguez, David R.; Zuckerman, B.; Kastner, Joel H.; Bessell, M. S.; Faherty, Jacqueline K.; Murphy, Simon J. The GALEX Nearby Young-Star Survey\n",
      "Rodríguez, D.; Blaum, K.; Nörtershäuser, W.; Ahammed, M.; Algora, A.; Audi, G.; Äystö, J.; Beck, D.; Bender, M.; Billowes, J.; and 95 coauthors MATS and LaSpec: High-precision experiments using ion traps and lasers at FAIR\n",
      "Rodriguez, David R.; Zuckerman, B. Binaries among Debris Disk Stars\n",
      "Rodriguez, David R.; Bessell, M. S.; Zuckerman, B.; Kastner, Joel H. A New Method to Identify Nearby, Young, Low-mass Stars\n",
      "Rodriguez, David R.; Kastner, Joel H.; Wilner, David; Qi, Chunhua Imaging the Molecular Disk Orbiting the Twin Young Suns of V4046 Sgr\n",
      "Rodriguez, David R.; Duchêne, Gaspard; Tom, Henry; Kennedy, Grant M.; Matthews, Brenda; Greaves, Jane; Butner, Harold Stellar multiplicity and debris discs: an unbiased sample\n",
      "Rodríguez, D.; Theofilis, V. Structural changes of laminar separation bubbles induced by global linear instability\n",
      "Rodriguez, David R.; Marois, Christian; Zuckerman, B.; Macintosh, Bruce; Melis, Carl A Substellar Companion to the Dusty Pleiades Star HD 23514\n",
      "Rodríguez, Daniel; Theofilis, Vassilis On the birth of stall cells on airfoils\n",
      "Rodríguez, D. A quantum sensor for high-performance mass spectrometry\n",
      "Rodriguez, David R.; Zuckerman, Ben; Faherty, Jacqueline K.; Vican, Laura A dusty M5 binary in the β Pictoris moving group\n",
      "Rodriguez, David R.; van der Plas, Gerrit; Kastner, Joel H.; Schneider, Adam C.; Faherty, Jacqueline K.; Mardones, Diego; Mohanty, Subhanjoy; Principe, David An ALMA survey for disks orbiting low-mass stars in the TW Hya Association\n",
      "Rodriguez, David R.; Zuckerman, B.; Melis, Carl; Song, Inseok The Ultra Cool Brown Dwarf Companion of WD 0806-661B: Age, Mass, and Formation Mechanism\n",
      "Rodríguez, Daniel; Sinha, Aniruddha; Brès, Guillaume A.; Colonius, Tim Inlet conditions for wave packet models in turbulent jets based on eigenmode decomposition of large eddy simulation data\n",
      "Rodriguez, David; Merwin, Augustus; Chidambaram, Dev On the oxidation of stainless steel alloy 304 in subcritical and supercritical water\n",
      "Rodríguez, D.; Sonnenschein, V.; Blaum, K.; Block, M.; Kluge, H.-J.; Lallena, A. M.; Raeder, S.; Wendt, K. Production of negative osmium ions by laser desorption and ionization\n",
      "Rodríguez, David Detection probability \"enhancement\" and \"unfair sampling\" in Bell inequalities\n",
      "Rodríguez, Daniel; MATS Collaboration The advanced trapping facility MATS at FAIR\n",
      "Rodríguez, Diego H.; Dassis, Mariela; Ponce de León, Alberto; Barreiro, César; Farenga, Marcelo; Bastida, Ricardo O.; Davis, Randall W. Foraging strategies of Southern sea lion females in the La Plata River Estuary (Argentina-Uruguay)\n",
      "Rodriguez, D.; Einarsson, B.; Carpio, A. Biofilm growth on rugose surfaces\n",
      "Rodríguez, Diana; Rodríguez, Ana; Garzón, Andrés; Granadino-Roldán, José M.; Soto, Amparo; Aranda, Alfonso; Notario, Alberto Kinetic and mechanistic study of the atmospheric reaction of MBO331 with Cl atoms\n",
      "Rodriguez, David; Zuckerman, B. M.; Kastner, J. H.; Vican, L.; Bessell, M. S.; Faherty, J. K.; Murphy, S. The GALEX Nearby Young-Star Survey\n",
      "Rodriguez, David Wigner-PDC description of photon entanglement as a local-realistic theory\n",
      "Rodriguez, D. E.; Bab, M. A.; Albano, E. V. Study of the nonequilibrium critical quenching and the annealing dynamics for the long-range Ising model in one dimension\n",
      "Rodríguez, D.; Blaum, K.; Cakirli, R. B.; Heck, M.; Schweikhard, L.; Stahl, S.; Ubieto-Díaz, M. Broad-Band FT-ICR MS for the Penning-Trap Mass Spectrometer MATS\n",
      "Rodríguez, Daniel Production and investigations of negative osmium ions for fundamental applications: REOSTRAP\n",
      "Rodriguez, D. R.; Duchene, G.; Tom, H.; Kennedy, G. M.; Matthews, B.; Greaves, J.; Butner, H. VizieR Online Data Catalog: Stellar multiplicity and debris discs (Rodriguez+, 2015)\n",
      "Rodriguez, David R.; van der Plas, Gerrit; Kastner, Joel H.; Schneider, Adam C.; Faherty, Jacqueline K.; Mardones, Diego; Mohanty, Subhanjoy; Principe, David A Molecular Disk Survey of Low-Mass Stars in the TW Hya Association\n",
      "Rodríguez, Daniela; Ojeda, Ricardo A. Scaling the relative dominance of exogenous drivers in structuring desert small mammal assemblages\n",
      "Rodriguez, David; Chidambaram, Dev Oxidation of stainless steel 316 and Nitronic 50 in supercritical and ultrasupercritical water\n",
      "Rodríguez, D. F.; Perillo, P. M. None\n",
      "Rodríguez, Daniel; Cavalieri, André V. G.; Colonius, Tim; Jordan, Peter A study of linear wavepacket models for subsonic turbulent jets using local eigenmode decomposition of PIV data\n",
      "Rodriguez, David R.; Zuckerman, B.; Kastner, Joel H.; Vican, Laura; Principe, David; Faherty, Jacqueline K.; Murphy, Simon J.; Bessell, Mike S. New Results from the GALEX Nearby Young-Star Survey\n",
      "Rodriguez, David R.; Duchene, Gaspard; Tom, Henry; Kennedy, Grant; Matthews, Brenda C.; Butner, Harold M. Stellar Multiplicity in the DEBRIS disk sample\n",
      "Rodriguez, D. A.; Lopez, L. G.; Siqueira Junior, J. L.; Tomasella, J. Characterizing Uncertainties in Hydrological Projections Under Climate Change in the Amazon Basin\n",
      "Rodriguez, D. R.; Zuckerman, B.; Kastner, J. H.; Bessell, M. S.; Faherty, J. K.; Murphy, S. J.; Vican, L. The GALEX Nearby Young-Star Survey\n",
      "Rodriguez, Douglas; Vandevender, Brent; Wood, Lynn; Glasgow, Brian; Taubman, Matthew; Wright, Michael; Dion, Michael; Pitts, Karl; Runkle, Robert; Campbell, Luke; Fast, James Ultra-High Rate Measurements of Spent Fuel Gamma-Ray Emissions\n",
      "Rodriguez, Daniel Andres; Chou, Sin Chan; Tomasella, Javier; Demaria, Eleonora M. C. Impacts of landscape fragmentation on simulated precipitation fields in the Amazonian sub-basin of Ji-Paraná using the Eta model\n",
      "Rodriguez, Daniel Hydrogen generation from ammonia borane and water through the combustion reactions with mechanically alloyed Al/Mg powder\n",
      "Rodríguez, Daniel; Gennaro, Elmer M.; Juniper, Matthew P. The two classes of primary modal instability in laminar separation bubbles\n",
      "Rodriguez, David; Zuckerman, Ben; Kastner, Joel; Bessell, Mike; Faherty, Jacqueline; Murphy, Simon; Vican, Laura The GALEX Nearby Young-Star Survey\n",
      "Rodriguez, D.; Observatory, G. Comet Observations [458 Guadarrama Observatory]\n",
      "Rodriguez, David; Faherty, J. The Hetu'u Global Network: Measuring the Distance to the Sun with the Transit of Venus\n",
      "Rodriguez, David; Zuckerman, B. M.; Kastner, J. H.; Bessell, M. S.; Faherty, J.; Murphy, S. J.; Vican, L. First Results from the Galex-Wise Young Star Program\n",
      "Rodriguez, Daniel Emission characteristics of a liquid spray sudden expansion combustor using computational fluid dynamics\n",
      "Rodríguez, Dolores; González-Aseguinolaza, Gloria; Rodríguez, Juan R.; Vijayan, Aneesh; Gherardi, Magdalena; Rueda, Paloma; Casal, J. Ignacio; Esteban, Mariano Vaccine Efficacy against Malaria by the Combination of Porcine Parvovirus-Like Particles and Vaccinia Virus Vectors Expressing CS of Plasmodium\n",
      "Rodriguez, D. Comet Observations [458 Guadarrama Observatory]\n",
      "Rodriguez, D. A.; Tomasella, J. Simulation of the impacts land use and land cover changes - LUCC on the hydrological response of the Ji-Parana Basin with MGB-INPE model\n",
      "Rodriguez, D. Comet Observations [458 Guadarrama Observatory]\n",
      "Rodriguez, D. Minor Planet Observations [458 Guadarrama Observatory]\n",
      "Rodriguez, D. Martin; Kennedy, S. J.; Bentley, P. M.; Rücker, U. Use of parabolic mirrors as guide splitters\n",
      "Rodriguez, D. Comet Observations [458 Guadarrama Observatory]\n",
      "Rodriguez, David Orbital stability and the quantum atomic spectrum from Stochastic Electrodynamics\n",
      "Rodriguez, David QM, non-locality and the vacuum fluctuations: conclusions and new directions\n",
      "Rodriguez, David R.; Zuckerman, B. Binaries Among Debris Disk Stars\n",
      "Rodriguez, David Bell tests with photon-entanglement: LHV models and critical efficiencies at the light of Wigner-PDC optics\n",
      "Rodriguez, David A classical, elementary approach to the foundations of Quantum Mechanics\n",
      "Rodriguez, David Revisiting factorability and indeterminism\n",
      "Rodriguez, Daniel; Colonius, Tim; Samanta, Arnab; Khalighi, Yaser; California Insitute Of Technology Team; Indian Institute Of Science Team; Cascade Technologies Inc Team Parabolized stability equation (PSE) models for the prediction of mixing noise in turbulent jets: Comparison with Large Eddy Simulation\n",
      "Rodriguez, D. F.; Saul, L.; Wurz, P.; Fuselier, S. A.; Funsten, H. O.; McComas, D. J.; Möbius, E. IBEX-Lo Observations of Energetic Neutral Hydrogen Atoms Originating from the Lunar Surface\n",
      "Rodriguez, D.; Einarsson, B.; Carpio, A. Influence of Rugosity on Biofilm Growth\n",
      "Rodriguez, D. F.; Perillo, P. M.; Rinaldi, C. A.; Lamagna, A. None\n",
      "Rodriguez, David Communication loophole in a Bell-EPR-Bohm experiment: standard no-signaling may not always be enough to exclude local realism\n",
      "Rodriguez, Douglas; Matt Wood for the Telescope Array Collaboration The Ultra-High Energy Cosmic Ray Spectrum Measured by the Telescope Array's Middle Drum Detector\n",
      "Rodriguez, D. E.; Bab, M. A.; Albano, E. V. Effective multidimensional crossover behavior in a one-dimensional voter model with long-range probabilistic interactions\n",
      "Rodriguez, David R. A Search for Low Mass Stars and Substellar Companions and A Study of Circumbinary Gas and Dust Disks\n",
      "Rodriguez, Douglas Chase The telescope array middle drum monocular energy spectrum and a search for coincident showers using high resolution fly's eye hires-1 monocular data\n",
      "Rodriguez, Douglas Searching For Simultaneous Showers in the High Resolution Fly's Eye Data and indirect dark matter searches\n",
      "Rodriguez, Douglas Direct Comparison of the Telescope Array and the High Resolution Fly's Eye Energy Scales and Spectra\n",
      "Rodriguez, D.; Cortes, E. Comet Observations [A06 Mataro]\n",
      "Rodriguez, D. Martin; Kennedy, S. J.; Klose, F. Upgrade of the neutron guide system at the OPAL Neutron Source\n",
      "Rodriguez, Daniel; Theofilis, Vassilis Structural changes of laminar separation bubbles induced by global linear instability\n",
      "Rodriguez, D.; Cortes, E. Comet Observations [A06 Mataro]\n",
      "Rodriguez, D. Comet Observations [458 Guadarrama Observatory]\n",
      "Rodriguez, D. Comet Observations [458 Guadarrama Observatory]\n",
      "Rodriguez, D. Comet Observations [458 Guadarrama Observatory]\n",
      "Rodríguez, D.; Ekaterinaris, J. A.; Valero, E.; Theofilis, V. On receptivity and modal linear instability of laminar separation bubbles at all speeds\n"
     ]
    }
   ],
   "source": [
    "soup = BeautifulSoup(u, 'html.parser')\n",
    "authors = soup.find_all('td', width='25%')\n",
    "titles = soup.find_all('td', align=\"left\", valign=\"top\", colspan=3)\n",
    "for i in range(len(authors)):\n",
    "    print authors[i].get_text(), titles[i].string"
   ]
  },
  {
   "cell_type": "markdown",
   "metadata": {},
   "source": [
    "It's good to know how to parse HTML and get useful information out of websites.\n",
    "However, ADS has a new [interface](https://ui.adsabs.harvard.edu/) and a new way to call their [API](http://adsabs.github.io/help/api/). To access it, you'll need a personal authorization token which you can get on your user page when you log in. This token should be kept private."
   ]
  },
  {
   "cell_type": "code",
   "execution_count": 42,
   "metadata": {
    "collapsed": true,
    "scrolled": true
   },
   "outputs": [],
   "source": [
    "my_token = 'TOKEN'"
   ]
  },
  {
   "cell_type": "markdown",
   "metadata": {},
   "source": [
    "We'll be using the **[requests](http://docs.python-requests.org/en/latest/index.html)** package as that can deal with authorization to API, such as tokens and passwords. Anything we could do with **urllib**, we can pretty much do with **requests**."
   ]
  },
  {
   "cell_type": "code",
   "execution_count": 26,
   "metadata": {
    "collapsed": true
   },
   "outputs": [],
   "source": [
    "baseurl = 'https://api.adsabs.harvard.edu/v1/search' + '/query'\n",
    "my_search = {}\n",
    "my_search['q'] = ['author:^Rodriguez,D','year:[2010 TO *]']  # the query\n",
    "my_search['fl'] = 'bibcode,author,title,citation_count,pubdate' # what to output\n",
    "my_search['sort'] = 'citation_count desc' # how to sort\n",
    "my_search['rows'] = 20 # how many entries to return\n",
    "my_auth = {'Authorization': 'Bearer:'+my_token}\n",
    "r = requests.get(baseurl, params=my_search, headers=my_auth)"
   ]
  },
  {
   "cell_type": "markdown",
   "metadata": {},
   "source": [
    "The output from such a request is a JSON (JavaScript Object Notation) formatted string."
   ]
  },
  {
   "cell_type": "code",
   "execution_count": 27,
   "metadata": {
    "collapsed": false
   },
   "outputs": [
    {
     "data": {
      "text/plain": [
       "{u'response': {u'docs': [{u'author': [u'Rodriguez, David R.',\n",
       "     u'Bessell, M. S.',\n",
       "     u'Zuckerman, B.',\n",
       "     u'Kastner, Joel H.'],\n",
       "    u'bibcode': u'2011ApJ...727...62R',\n",
       "    u'citation_count': 47,\n",
       "    u'pubdate': u'2011-02-00',\n",
       "    u'title': [u'A New Method to Identify Nearby, Young, Low-mass Stars']},\n",
       "   {u'author': [u'Rodriguez, David R.', u'Zuckerman, B.'],\n",
       "    u'bibcode': u'2012ApJ...745..147R',\n",
       "    u'citation_count': 42,\n",
       "    u'pubdate': u'2012-02-00',\n",
       "    u'title': [u'Binaries among Debris Disk Stars']},\n",
       "   {u'author': [u'Rodr\\xedguez, D.',\n",
       "     u'Kolhinen, V. S.',\n",
       "     u'Audi, G.',\n",
       "     u'\\xc4yst\\xf6, J.',\n",
       "     u'Beck, D.',\n",
       "     u'Blaum, K.',\n",
       "     u'Bollen, G.',\n",
       "     u'Herfurth, F.',\n",
       "     u'Jokinen, A.',\n",
       "     u'Kellerbauer, A.',\n",
       "     u'Kluge, H. -J.',\n",
       "     u'Oinonen, M.',\n",
       "     u'Schatz, H.',\n",
       "     u'Sauvan, E.',\n",
       "     u'Schwarz, S.'],\n",
       "    u'bibcode': u'2004PhRvL..93p1104R',\n",
       "    u'citation_count': 38,\n",
       "    u'pubdate': u'2004-10-00',\n",
       "    u'title': [u'Mass Measurement on the rp-Process Waiting Point <SUP>72</SUP>Kr']},\n",
       "   {u'author': [u'Rodriguez, D. G. L.',\n",
       "     u'Thomas, W.',\n",
       "     u'Livschitz, Y.',\n",
       "     u'Ruppert, T.',\n",
       "     u'Albert, P.',\n",
       "     u'Hollmann, R.'],\n",
       "    u'bibcode': u'2007ITGRS..45.2747R',\n",
       "    u'citation_count': 34,\n",
       "    u'pubdate': u'2007-09-00',\n",
       "    u'title': [u'Cloud Properties Derived From GOME/ERS-2 Backscatter Data for Trace Gas Retrieval']},\n",
       "   {u'author': [u'Rodriguez, David R.',\n",
       "     u'Zuckerman, B.',\n",
       "     u'Kastner, Joel H.',\n",
       "     u'Bessell, M. S.',\n",
       "     u'Faherty, Jacqueline K.',\n",
       "     u'Murphy, Simon J.'],\n",
       "    u'bibcode': u'2013ApJ...774..101R',\n",
       "    u'citation_count': 33,\n",
       "    u'pubdate': u'2013-09-00',\n",
       "    u'title': [u'The GALEX Nearby Young-Star Survey']},\n",
       "   {u'author': [u'Rodriguez, David R.',\n",
       "     u'Kastner, Joel H.',\n",
       "     u'Wilner, David',\n",
       "     u'Qi, Chunhua'],\n",
       "    u'bibcode': u'2010ApJ...720.1684R',\n",
       "    u'citation_count': 31,\n",
       "    u'pubdate': u'2010-09-00',\n",
       "    u'title': [u'Imaging the Molecular Disk Orbiting the Twin Young Suns of V4046 Sgr']},\n",
       "   {u'author': [u'Rodr\\xedguez, D.',\n",
       "     u'Blaum, K.',\n",
       "     u'N\\xf6rtersh\\xe4user, W.',\n",
       "     u'Ahammed, M.',\n",
       "     u'Algora, A.',\n",
       "     u'Audi, G.',\n",
       "     u'\\xc4yst\\xf6, J.',\n",
       "     u'Beck, D.',\n",
       "     u'Bender, M.',\n",
       "     u'Billowes, J.',\n",
       "     u'Block, M.',\n",
       "     u'B\\xf6hm, C.',\n",
       "     u'Bollen, G.',\n",
       "     u'Brodeur, M.',\n",
       "     u'Brunner, T.',\n",
       "     u'Bushaw, B. A.',\n",
       "     u'Cakirli, R. B.',\n",
       "     u'Campbell, P.',\n",
       "     u'Cano-Ott, D.',\n",
       "     u'Cort\\xe9s, G.',\n",
       "     u'Crespo L\\xf3pez-Urrutia, J. R.',\n",
       "     u'Das, P.',\n",
       "     u'Dax, A.',\n",
       "     u'de, A.',\n",
       "     u'Delheij, P.',\n",
       "     u'Dickel, T.',\n",
       "     u'Dilling, J.',\n",
       "     u'Eberhardt, K.',\n",
       "     u'Eliseev, S.',\n",
       "     u'Ettenauer, S.',\n",
       "     u'Flanagan, K. T.',\n",
       "     u'Ferrer, R.',\n",
       "     u'Garc\\xeda-Ramos, J. -E.',\n",
       "     u'Gartzke, E.',\n",
       "     u'Geissel, H.',\n",
       "     u'George, S.',\n",
       "     u'Geppert, C.',\n",
       "     u'G\\xf3mez-Hornillos, M. B.',\n",
       "     u'Gusev, Y.',\n",
       "     u'Habs, D.',\n",
       "     u'Heenen, P. -H.',\n",
       "     u'Heinz, S.',\n",
       "     u'Herfurth, F.',\n",
       "     u'Herlert, A.',\n",
       "     u'Hobein, M.',\n",
       "     u'Huber, G.',\n",
       "     u'Huyse, M.',\n",
       "     u'Jesch, C.',\n",
       "     u'Jokinen, A.',\n",
       "     u'Kester, O.',\n",
       "     u'Ketelaer, J.',\n",
       "     u'Kolhinen, V.',\n",
       "     u'Koudriavtsev, I.',\n",
       "     u'Kowalska, M.',\n",
       "     u'Kr\\xe4mer, J.',\n",
       "     u'Kreim, S.',\n",
       "     u'Krieger, A.',\n",
       "     u'K\\xfchl, T.',\n",
       "     u'Lallena, A. M.',\n",
       "     u'Lapierre, A.',\n",
       "     u'Le Blanc, F.',\n",
       "     u'Litvinov, Y. A.',\n",
       "     u'Lunney, D.',\n",
       "     u'Mart\\xednez, T.',\n",
       "     u'Marx, G.',\n",
       "     u'Matos, M.',\n",
       "     u'Minaya-Ramirez, E.',\n",
       "     u'Moore, I.',\n",
       "     u'Nagy, S.',\n",
       "     u'Naimi, S.',\n",
       "     u'Neidherr, D.',\n",
       "     u'Nesterenko, D.',\n",
       "     u'Neyens, G.',\n",
       "     u'Novikov, Y. N.',\n",
       "     u'Petrick, M.',\n",
       "     u'Pla\\xdf, W. R.',\n",
       "     u'Popov, A.',\n",
       "     u'Quint, W.',\n",
       "     u'Ray, A.',\n",
       "     u'Reinhard, P. -G.',\n",
       "     u'Repp, J.',\n",
       "     u'Roux, C.',\n",
       "     u'Rubio, B.',\n",
       "     u'S\\xe1nchez, R.',\n",
       "     u'Schabinger, B.',\n",
       "     u'Scheidenberger, C.',\n",
       "     u'Schneider, D.',\n",
       "     u'Schuch, R.',\n",
       "     u'Schwarz, S.',\n",
       "     u'Schweikhard, L.',\n",
       "     u'Seliverstov, M.',\n",
       "     u'Solders, A.',\n",
       "     u'Suhonen, M.',\n",
       "     u'Szerypo, J.',\n",
       "     u'Ta\\xedn, J. L.',\n",
       "     u'Thirolf, P. G.',\n",
       "     u'Ullrich, J.',\n",
       "     u'van Duppen, P.',\n",
       "     u'Vasiliev, A.',\n",
       "     u'Vorobjev, G.',\n",
       "     u'Weber, C.',\n",
       "     u'Wendt, K.',\n",
       "     u'Winkler, M.',\n",
       "     u'Yordanov, D.',\n",
       "     u'Ziegler, F.'],\n",
       "    u'bibcode': u'2010EPJST.183....1R',\n",
       "    u'citation_count': 31,\n",
       "    u'pubdate': u'2010-05-00',\n",
       "    u'title': [u'MATS and LaSpec: High-precision experiments using ion traps and lasers at FAIR']},\n",
       "   {u'author': [u'Rodr\\xedguez, D.',\n",
       "     u'M\\xe9ry, A.',\n",
       "     u'Ban, G.',\n",
       "     u'Br\\xe9geault, J.',\n",
       "     u'Darius, G.',\n",
       "     u'Durand, D.',\n",
       "     u'Fl\\xe9chard, X.',\n",
       "     u'Herbane, M.',\n",
       "     u'Labalme, M.',\n",
       "     u'Li\\xe9nard, E.',\n",
       "     u'Mauger, F.',\n",
       "     u'Merrer, Y.',\n",
       "     u'Naviliat-Cuncic, O.',\n",
       "     u'Thomas, J. C.',\n",
       "     u'Vandamme, C.'],\n",
       "    u'bibcode': u'2006NIMPA.565..876R',\n",
       "    u'citation_count': 29,\n",
       "    u'pubdate': u'2006-09-00',\n",
       "    u'title': [u'The LPCTrap facility: A novel transparent Paul trap for high-precision experiments']},\n",
       "   {u'author': [u'Rodr\\xedguez, D.',\n",
       "     u'Audi, G.',\n",
       "     u'\\xc4yst\\xf6, J.',\n",
       "     u'Beck, D.',\n",
       "     u'Blaum, K.',\n",
       "     u'Bollen, G.',\n",
       "     u'Herfurth, F.',\n",
       "     u'Jokinen, A.',\n",
       "     u'Kellerbauer, A.',\n",
       "     u'Kluge, H. -J.',\n",
       "     u'Kolhinen, V. S.',\n",
       "     u'Oinonen, M.',\n",
       "     u'Sauvan, E.',\n",
       "     u'Schwarz, S.'],\n",
       "    u'bibcode': u'2006NuPhA.769....1R',\n",
       "    u'citation_count': 18,\n",
       "    u'pubdate': u'2006-04-00',\n",
       "    u'title': [u'Accurate mass measurements on neutron-deficient krypton isotopes']},\n",
       "   {u'author': [u'Rodriguez, David R.',\n",
       "     u'Marois, Christian',\n",
       "     u'Zuckerman, B.',\n",
       "     u'Macintosh, Bruce',\n",
       "     u'Melis, Carl'],\n",
       "    u'bibcode': u'2012ApJ...748...30R',\n",
       "    u'citation_count': 14,\n",
       "    u'pubdate': u'2012-03-00',\n",
       "    u'title': [u'A Substellar Companion to the Dusty Pleiades Star HD 23514']},\n",
       "   {u'author': [u'Rodriguez, D.',\n",
       "     u'Esquivias, I.',\n",
       "     u'Deubert, S.',\n",
       "     u'Reithmaier, J. P.',\n",
       "     u'Forchel, A.',\n",
       "     u'Krakowski, M.',\n",
       "     u'Calligaro, M.',\n",
       "     u'Parillaud, O.'],\n",
       "    u'bibcode': u'2005IJQE...41..117R',\n",
       "    u'citation_count': 12,\n",
       "    u'pubdate': u'2005-02-00',\n",
       "    u'title': [u'Gain, Index Variation, and Linewidth-Enhancement Factor in 980-nm Quantum-Well and Quantum-Dot Lasers']},\n",
       "   {u'author': [u'Rodr\\xedguez, D.', u'Theofilis, V.'],\n",
       "    u'bibcode': u'2010JFM...655..280R',\n",
       "    u'citation_count': 11,\n",
       "    u'pubdate': u'2010-05-00',\n",
       "    u'title': [u'Structural changes of laminar separation bubbles induced by global linear instability']},\n",
       "   {u'author': [u'Rodr\\xedguez, Daniel', u'Theofilis, Vassilis'],\n",
       "    u'bibcode': u'2009AIAAJ..47.2449R',\n",
       "    u'citation_count': 10,\n",
       "    u'pubdate': u'2009-10-00',\n",
       "    u'title': [u'Massively Parallel Solution of the BiGlobal Eigenvalue Problem Using Dense Linear Algebra']},\n",
       "   {u'author': [u'Rodriguez, David R.',\n",
       "     u'Zuckerman, B.',\n",
       "     u'Melis, Carl',\n",
       "     u'Song, Inseok'],\n",
       "    u'bibcode': u'2011ApJ...732L..29R',\n",
       "    u'citation_count': 9,\n",
       "    u'pubdate': u'2011-05-00',\n",
       "    u'title': [u'The Ultra Cool Brown Dwarf Companion of WD 0806-661B: Age, Mass, and Formation Mechanism']},\n",
       "   {u'author': [u'Rodr\\xedguez, Daniel', u'Theofilis, Vassilis'],\n",
       "    u'bibcode': u'2011ThCFD..25..105R',\n",
       "    u'citation_count': 8,\n",
       "    u'pubdate': u'2011-06-00',\n",
       "    u'title': [u'On the birth of stall cells on airfoils']},\n",
       "   {u'author': [u'Rodriguez, D.',\n",
       "     u'Borruel, L.',\n",
       "     u'Esquivias, I.',\n",
       "     u'Wenzel, H.',\n",
       "     u'Sumpf, B.',\n",
       "     u'Erbert, G.'],\n",
       "    u'bibcode': u'2004IPTL...16.1432R',\n",
       "    u'citation_count': 7,\n",
       "    u'pubdate': u'2004-06-00',\n",
       "    u'title': [u'CW Technique for Measurement of Linewidth Enhancement Factor: Application to 735-nm Tensile-Strained GaAsP Quantum-Well Lasers']},\n",
       "   {u'author': [u'Rodr\\xedguez, D.',\n",
       "     u'Rodr\\xedguez, A.',\n",
       "     u'Notario, A.',\n",
       "     u'Aranda, A.',\n",
       "     u'D\\xedaz-de-Mera, Y.',\n",
       "     u'Mart\\xednez, E.'],\n",
       "    u'bibcode': u'2005ACP.....5.3433R',\n",
       "    u'citation_count': 7,\n",
       "    u'pubdate': u'2005-12-00',\n",
       "    u'title': [u'Kinetic study of the gas-phase reaction of atomic chlorine with a series of aldehydes']},\n",
       "   {u'author': [u'Rodr\\xedguez, D.'],\n",
       "    u'bibcode': u'2012ApPhB.107.1031R',\n",
       "    u'citation_count': 5,\n",
       "    u'pubdate': u'2012-06-00',\n",
       "    u'title': [u'A quantum sensor for high-performance mass spectrometry']},\n",
       "   {u'author': [u'Rodriguez, Daniel Andr\\xe9s',\n",
       "     u'Cavalcanti, Iracema F. Albuquerque'],\n",
       "    u'bibcode': u'2006JHyMe...7..916R',\n",
       "    u'citation_count': 5,\n",
       "    u'pubdate': u'2006-00-00',\n",
       "    u'title': [u'Simulations of the Hydrological Cycle over Southern South America Using the CPTEC/COLA AGCM']},\n",
       "   {u'author': [u'Rodriguez, David R.',\n",
       "     u'Zuckerman, Ben',\n",
       "     u'Faherty, Jacqueline K.',\n",
       "     u'Vican, Laura'],\n",
       "    u'bibcode': u'2014A&A...567A..20R',\n",
       "    u'citation_count': 5,\n",
       "    u'pubdate': u'2014-07-00',\n",
       "    u'title': [u'A dusty M5 binary in the \\u03b2 Pictoris moving group']}],\n",
       "  u'numFound': 213,\n",
       "  u'start': 0},\n",
       " u'responseHeader': {u'QTime': 264,\n",
       "  u'params': {u'fl': u'bibcode,author,title,citation_count,pubdate',\n",
       "   u'q': [u'author:^Rodriguez,D', u'year:[2010 TO *]'],\n",
       "   u'rows': u'20',\n",
       "   u'sort': u'citation_count desc',\n",
       "   u'wt': u'json'},\n",
       "  u'status': 0}}"
      ]
     },
     "execution_count": 27,
     "metadata": {},
     "output_type": "execute_result"
    }
   ],
   "source": [
    "r.json()"
   ]
  },
  {
   "cell_type": "markdown",
   "metadata": {},
   "source": [
    "We'll use **simplejson** to parse the JSON information into something we can use."
   ]
  },
  {
   "cell_type": "code",
   "execution_count": 29,
   "metadata": {
    "collapsed": false
   },
   "outputs": [
    {
     "name": "stdout",
     "output_type": "stream",
     "text": [
      "2011ApJ...727...62R 47 2011-02-00 Rodriguez, David R. A New Method to Identify Nearby, Young, Low-mass Stars\n",
      "2012ApJ...745..147R 42 2012-02-00 Rodriguez, David R. Binaries among Debris Disk Stars\n",
      "2013ApJ...774..101R 33 2013-09-00 Rodriguez, David R. The GALEX Nearby Young-Star Survey\n",
      "2010ApJ...720.1684R 31 2010-09-00 Rodriguez, David R. Imaging the Molecular Disk Orbiting the Twin Young Suns of V4046 Sgr\n",
      "2012ApJ...748...30R 14 2012-03-00 Rodriguez, David R. A Substellar Companion to the Dusty Pleiades Star HD 23514\n",
      "2011ApJ...732L..29R 9 2011-05-00 Rodriguez, David R. The Ultra Cool Brown Dwarf Companion of WD 0806-661B: Age, Mass, and Formation Mechanism\n",
      "2014A&A...567A..20R 5 2014-07-00 Rodriguez, David R. A dusty M5 binary in the β Pictoris moving group\n"
     ]
    }
   ],
   "source": [
    "data = simplejson.loads(r.text)['response']['docs']\n",
    "\n",
    "for i in range(len(data)):\n",
    "    if (data[i]['author'][0]!='Rodriguez, David R.'): continue\n",
    "    print data[i]['bibcode'], data[i]['citation_count'], data[i]['pubdate'], data[i]['author'][0], data[i]['title'][0] "
   ]
  },
  {
   "cell_type": "markdown",
   "metadata": {},
   "source": [
    "Refer to the [ADS API Github page](https://github.com/adsabs/adsabs-dev-api) for more examples of the sorts of searches you can do and the fields you can ask for."
   ]
  },
  {
   "cell_type": "markdown",
   "metadata": {},
   "source": [
    "## An Alternative Way\n",
    "\n",
    "As an alternative to figuring out the URL and specifics for each API, you can consider the [Astroquery](http://astroquery.readthedocs.org/en/latest/index.html) package, which has built in support for a number of APIs (though for NASA ADS it is only the older omni-search box).   \n",
    "For example, to query Simbad you could do:"
   ]
  },
  {
   "cell_type": "code",
   "execution_count": 30,
   "metadata": {
    "collapsed": false
   },
   "outputs": [
    {
     "name": "stdout",
     "output_type": "stream",
     "text": [
      "  MAIN_ID          RA           DEC      ... COO_WAVELENGTH     COO_BIBCODE    \n",
      "                \"h:m:s\"       \"d:m:s\"    ...                                   \n",
      "------------ ------------- ------------- ... -------------- -------------------\n",
      "V* V4046 Sgr 18 14 10.4660 -32 47 34.496 ...                1998A&A...335L..65H\n"
     ]
    }
   ],
   "source": [
    "from astroquery.simbad import Simbad\n",
    "s = Simbad()\n",
    "r = s.query_object('V4046 Sgr')\n",
    "print r"
   ]
  },
  {
   "cell_type": "markdown",
   "metadata": {},
   "source": [
    "## Twitter API\n",
    "\n",
    "Finally, let's have a look at Twitter. While not exactly part of an astronomer's toolset, Twitter is often used in conferences to communicate with one another and with the public. Let's create a simple example where we access the API and get results for tweets about #astroHackNY.\n",
    "\n",
    "You need special authorization ([OAuth](http://oauth.net/)) to query the [Twitter API](https://dev.twitter.com/overview/documentation). You'll need to go to Twitter's [Application Page](https://apps.twitter.com/), login with your account, and create an application. I've done this with my account and saved them to a file in JSON format, which I read below."
   ]
  },
  {
   "cell_type": "code",
   "execution_count": 31,
   "metadata": {
    "collapsed": false
   },
   "outputs": [],
   "source": [
    "with open(\"twitter_secrets.json.nogit\") as f:\n",
    "    secrets = simplejson.loads(f.read())\n",
    "\n",
    "# OAuth1 is a module in requests_oauthlib\n",
    "auth = OAuth1(\n",
    "    secrets[\"api_key\"],\n",
    "    secrets[\"api_secret\"],\n",
    "    secrets[\"access_token\"],\n",
    "    secrets[\"access_token_secret\"]\n",
    ")"
   ]
  },
  {
   "cell_type": "markdown",
   "metadata": {},
   "source": [
    "Now we can structure our request in pretty much the same way as before."
   ]
  },
  {
   "cell_type": "code",
   "execution_count": 40,
   "metadata": {
    "collapsed": false
   },
   "outputs": [],
   "source": [
    "params = {'q':'#AstroHackNY', 'result_type':'recent', 'count':20}\n",
    "url = 'https://api.twitter.com/1.1/search/tweets.json'\n",
    "r = requests.get(url, auth=auth, params=params)"
   ]
  },
  {
   "cell_type": "code",
   "execution_count": 41,
   "metadata": {
    "collapsed": false
   },
   "outputs": [
    {
     "name": "stdout",
     "output_type": "stream",
     "text": [
      "David Rodriguez (@Strakul): Just finished going through an iPython notebook on accessing APIs! https://t.co/4zILuBx8c4 #astroHackNY  (on Tue Feb 16 15:33:35 +0000 2016)\n",
      "Emily Carlson (@emilyscarlson): will david's API work? #AstroHackNY  (on Tue Feb 16 15:32:20 +0000 2016)\n",
      "Kelle Cruz (@kellecruz): for the record, this came up via @Strakul's API discussion at #astrohackny. @keflavich  (on Tue Feb 16 15:27:38 +0000 2016)\n",
      "Kelle Cruz (@kellecruz): #astrohackny Why yes, yes it is. @davidwhogg “@nhuntwalker: @kellecruz Is this the droid you're looking for?  https://t.co/WjTnysBM4J”  (on Tue Feb 09 15:57:03 +0000 2016)\n",
      "Kelle Cruz (@kellecruz): @nhuntwalker We can work on them during #astrohackny this semester! are they on github?  (on Tue Feb 09 15:36:53 +0000 2016)\n",
      "Kelle Cruz (@kellecruz): #astrohackny Are there any ipython notebooks started to support the \"fitting a line to data\" paper? @exoplaneteer @adrianprw  (on Tue Feb 09 15:18:43 +0000 2016)\n"
     ]
    }
   ],
   "source": [
    "data = simplejson.loads(r.text)['statuses']\n",
    "\n",
    "for i in range(len(data)):\n",
    "    print '%s (@%s): %s  (on %s)' % (data[i]['user']['name'], \\\n",
    "                                     data[i]['user']['screen_name'], data[i]['text'], data[i]['created_at'])"
   ]
  },
  {
   "cell_type": "markdown",
   "metadata": {},
   "source": [
    "The Twitter API is quite complex, so I recommend experimenting and reading through their documentation.   \n",
    "Note that Twitter searches are generally limited to one week of past tweets, so it can be tricky to find very old tweets."
   ]
  },
  {
   "cell_type": "code",
   "execution_count": 35,
   "metadata": {
    "collapsed": true
   },
   "outputs": [],
   "source": [
    "url = 'https://api.twitter.com/1.1/statuses/update.json'\n",
    "my_tweet = 'Just finished going through an iPython notebook on accessing APIs! https://github.com/dr-rodriguez/AstronomyAPI #astroHackNY'\n",
    "r = requests.post(url, auth=auth, params={'status':my_tweet})"
   ]
  },
  {
   "cell_type": "markdown",
   "metadata": {},
   "source": [
    "## Conclusion\n",
    "\n",
    "There are many other APIs that you can go access. [Here is a list](http://dotastronomy.com/events/hackdays/nyc2012/apis/) of some astronomy-related ones, but the tools you learned here carry over to more general APIs as well. Now go forth and mine some data!"
   ]
  },
  {
   "cell_type": "markdown",
   "metadata": {},
   "source": [
    "## Exercises\n",
    "\n",
    "Want a little practice? How about the following:\n",
    "1. Query the WISE database around 1 degree of some right ascension and declination that you pick. How many objects do you find?\n",
    "2. There's certain to be some information for the sources that you found above. Query Simbad for all of them and find out which object has the most references.\n",
    "3. For the object with the most references, what is the most cited publication?\n",
    "4. Write a function that does all of the above. It should take a right ascension and declination as input and generate a message along the lines of: \"For WISE sources within 1 degree of RA, DEC, OBJECT has NN publications, one of which has NN citations.\" Make sure that this is 140 characters long or less (trim as needed). This message should be posted to your Twitter account directly by your function."
   ]
  }
 ],
 "metadata": {
  "kernelspec": {
   "display_name": "Python 2",
   "language": "python",
   "name": "python2"
  },
  "language_info": {
   "codemirror_mode": {
    "name": "ipython",
    "version": 2
   },
   "file_extension": ".py",
   "mimetype": "text/x-python",
   "name": "python",
   "nbconvert_exporter": "python",
   "pygments_lexer": "ipython2",
   "version": "2.7.11"
  }
 },
 "nbformat": 4,
 "nbformat_minor": 0
}
